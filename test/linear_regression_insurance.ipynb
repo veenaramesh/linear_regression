{
  "nbformat": 4,
  "nbformat_minor": 0,
  "metadata": {
    "kernelspec": {
      "display_name": "Python 3",
      "language": "python",
      "name": "python3"
    },
    "language_info": {
      "codemirror_mode": {
        "name": "ipython",
        "version": 3
      },
      "file_extension": ".py",
      "mimetype": "text/x-python",
      "name": "python",
      "nbconvert_exporter": "python",
      "pygments_lexer": "ipython3",
      "version": "3.7.0"
    },
    "colab": {
      "name": "assignment1.ipynb",
      "provenance": [],
      "collapsed_sections": []
    }
  },
  "cells": [
    {
      "cell_type": "markdown",
      "metadata": {
        "id": "s-RzEZEBR10z",
        "colab_type": "text"
      },
      "source": [
        "# Assignment 1: Comparison of Regression Models on Predicting Medical Costs"
      ]
    },
    {
      "cell_type": "markdown",
      "metadata": {
        "id": "0qYDyMDTR100",
        "colab_type": "text"
      },
      "source": [
        "### CS 4774 Machine Learning - Department of Computer Science - University of Virginia\n",
        "![Medical Cost](https://creditkarma-cms.imgix.net/wp-content/uploads/2018/04/boomers-gen-x-high-cost-medical-care.jpg)\n",
        "In this assignment, you will implement some learning models in the context of a **regression** problem in the [Medical Cost Personal Dataset on Kaggle](https://www.kaggle.com/mirichoi0218/insurance). Specifically, you will attempt to predict the medical cost billed by health insurance using other provided patient's data. For references, you may refer to [my slides](https://docs.google.com/presentation/d/10D1he89peAWaFgjtZlHpUzvOOAie_vIFT95htKCKgc0/edit#slide=id.p) or Chapter 4 of the code repo if you need additional sample codes to help with your assignment. To get started, you will need to upload/copy the dataset (.csv) into the same folder as this file. \n",
        "\n",
        "For deliverables, you must write code in Colab and submit the downloaded Jupyter Notebook file (.ipynb) to earn a total of 100 pts. You will gain points depending on how you perform in the following sections.*\n"
      ]
    },
    {
      "cell_type": "markdown",
      "metadata": {
        "id": "l0lLa-xiR101",
        "colab_type": "text"
      },
      "source": [
        "***\n",
        "##  Task 1: SEE THE BIG PICTURE (5 pts)\n",
        "Write a paragraph explaining the context of the problem in which you are trying to investigate. We will assume that the data file is put into the same workspace on Colab. Then, you can write some code to load the CSV file and take a quick look at the dataset, and output the following:\n",
        "\n",
        " * How big is your dataset? (in terms of MB)\n",
        " * How many entries does it have?\n",
        " * How many features does it have?\n",
        " * Does it contain any categorical data?\n",
        " * Is there any missing value?\n",
        " * What are some basic statistics you can learn right away about this dataset?"
      ]
    },
    {
      "cell_type": "markdown",
      "metadata": {
        "id": "LRHwoN_Ahdtu",
        "colab_type": "text"
      },
      "source": [
        "## Response\n",
        "\n"
      ]
    },
    {
      "cell_type": "code",
      "metadata": {
        "id": "ujitZUYeR101",
        "colab_type": "code",
        "outputId": "6c27d4b0-b07f-42bb-e9d3-b1168b76d844",
        "colab": {
          "base_uri": "https://localhost:8080/",
          "height": 202
        }
      },
      "source": [
        "# Import some common packages\n",
        "import os\n",
        "import numpy as np\n",
        "import matplotlib\n",
        "import matplotlib.pyplot as plt\n",
        "import pandas as pd\n",
        "import seaborn as sns\n",
        "\n",
        "# to make this notebook's output stable across runs\n",
        "np.random.seed(42)\n",
        "\n",
        "# Your code goes here for this section, make sure you also include the output to answer the above questions.\n",
        "df = pd.read_csv(\"insurance.csv\")\n",
        "df.head()"
      ],
      "execution_count": 150,
      "outputs": [
        {
          "output_type": "execute_result",
          "data": {
            "text/html": [
              "<div>\n",
              "<style scoped>\n",
              "    .dataframe tbody tr th:only-of-type {\n",
              "        vertical-align: middle;\n",
              "    }\n",
              "\n",
              "    .dataframe tbody tr th {\n",
              "        vertical-align: top;\n",
              "    }\n",
              "\n",
              "    .dataframe thead th {\n",
              "        text-align: right;\n",
              "    }\n",
              "</style>\n",
              "<table border=\"1\" class=\"dataframe\">\n",
              "  <thead>\n",
              "    <tr style=\"text-align: right;\">\n",
              "      <th></th>\n",
              "      <th>age</th>\n",
              "      <th>sex</th>\n",
              "      <th>bmi</th>\n",
              "      <th>children</th>\n",
              "      <th>smoker</th>\n",
              "      <th>region</th>\n",
              "      <th>charges</th>\n",
              "    </tr>\n",
              "  </thead>\n",
              "  <tbody>\n",
              "    <tr>\n",
              "      <th>0</th>\n",
              "      <td>19</td>\n",
              "      <td>female</td>\n",
              "      <td>27.900</td>\n",
              "      <td>0</td>\n",
              "      <td>yes</td>\n",
              "      <td>southwest</td>\n",
              "      <td>16884.92400</td>\n",
              "    </tr>\n",
              "    <tr>\n",
              "      <th>1</th>\n",
              "      <td>18</td>\n",
              "      <td>male</td>\n",
              "      <td>33.770</td>\n",
              "      <td>1</td>\n",
              "      <td>no</td>\n",
              "      <td>southeast</td>\n",
              "      <td>1725.55230</td>\n",
              "    </tr>\n",
              "    <tr>\n",
              "      <th>2</th>\n",
              "      <td>28</td>\n",
              "      <td>male</td>\n",
              "      <td>33.000</td>\n",
              "      <td>3</td>\n",
              "      <td>no</td>\n",
              "      <td>southeast</td>\n",
              "      <td>4449.46200</td>\n",
              "    </tr>\n",
              "    <tr>\n",
              "      <th>3</th>\n",
              "      <td>33</td>\n",
              "      <td>male</td>\n",
              "      <td>22.705</td>\n",
              "      <td>0</td>\n",
              "      <td>no</td>\n",
              "      <td>northwest</td>\n",
              "      <td>21984.47061</td>\n",
              "    </tr>\n",
              "    <tr>\n",
              "      <th>4</th>\n",
              "      <td>32</td>\n",
              "      <td>male</td>\n",
              "      <td>28.880</td>\n",
              "      <td>0</td>\n",
              "      <td>no</td>\n",
              "      <td>northwest</td>\n",
              "      <td>3866.85520</td>\n",
              "    </tr>\n",
              "  </tbody>\n",
              "</table>\n",
              "</div>"
            ],
            "text/plain": [
              "   age     sex     bmi  children smoker     region      charges\n",
              "0   19  female  27.900         0    yes  southwest  16884.92400\n",
              "1   18    male  33.770         1     no  southeast   1725.55230\n",
              "2   28    male  33.000         3     no  southeast   4449.46200\n",
              "3   33    male  22.705         0     no  northwest  21984.47061\n",
              "4   32    male  28.880         0     no  northwest   3866.85520"
            ]
          },
          "metadata": {
            "tags": []
          },
          "execution_count": 150
        }
      ]
    },
    {
      "cell_type": "code",
      "metadata": {
        "id": "9yEQV0x7SgUE",
        "colab_type": "code",
        "outputId": "3f3e0fed-1216-4ab8-de68-1f45ca289f72",
        "colab": {
          "base_uri": "https://localhost:8080/",
          "height": 225
        }
      },
      "source": [
        "df.info()"
      ],
      "execution_count": 0,
      "outputs": [
        {
          "output_type": "stream",
          "text": [
            "<class 'pandas.core.frame.DataFrame'>\n",
            "RangeIndex: 1338 entries, 0 to 1337\n",
            "Data columns (total 7 columns):\n",
            "age         1338 non-null int64\n",
            "sex         1338 non-null object\n",
            "bmi         1338 non-null float64\n",
            "children    1338 non-null int64\n",
            "smoker      1338 non-null object\n",
            "region      1338 non-null object\n",
            "charges     1338 non-null float64\n",
            "dtypes: float64(2), int64(2), object(3)\n",
            "memory usage: 73.2+ KB\n"
          ],
          "name": "stdout"
        }
      ]
    },
    {
      "cell_type": "code",
      "metadata": {
        "id": "sgfJjB-YSlP_",
        "colab_type": "code",
        "outputId": "d7e24f32-7c1a-448c-fd03-722fc22c7b2c",
        "colab": {
          "base_uri": "https://localhost:8080/",
          "height": 294
        }
      },
      "source": [
        "df.describe()"
      ],
      "execution_count": 0,
      "outputs": [
        {
          "output_type": "execute_result",
          "data": {
            "text/html": [
              "<div>\n",
              "<style scoped>\n",
              "    .dataframe tbody tr th:only-of-type {\n",
              "        vertical-align: middle;\n",
              "    }\n",
              "\n",
              "    .dataframe tbody tr th {\n",
              "        vertical-align: top;\n",
              "    }\n",
              "\n",
              "    .dataframe thead th {\n",
              "        text-align: right;\n",
              "    }\n",
              "</style>\n",
              "<table border=\"1\" class=\"dataframe\">\n",
              "  <thead>\n",
              "    <tr style=\"text-align: right;\">\n",
              "      <th></th>\n",
              "      <th>age</th>\n",
              "      <th>bmi</th>\n",
              "      <th>children</th>\n",
              "      <th>charges</th>\n",
              "    </tr>\n",
              "  </thead>\n",
              "  <tbody>\n",
              "    <tr>\n",
              "      <th>count</th>\n",
              "      <td>1338.000000</td>\n",
              "      <td>1338.000000</td>\n",
              "      <td>1338.000000</td>\n",
              "      <td>1338.000000</td>\n",
              "    </tr>\n",
              "    <tr>\n",
              "      <th>mean</th>\n",
              "      <td>39.207025</td>\n",
              "      <td>30.663397</td>\n",
              "      <td>1.094918</td>\n",
              "      <td>13270.422265</td>\n",
              "    </tr>\n",
              "    <tr>\n",
              "      <th>std</th>\n",
              "      <td>14.049960</td>\n",
              "      <td>6.098187</td>\n",
              "      <td>1.205493</td>\n",
              "      <td>12110.011237</td>\n",
              "    </tr>\n",
              "    <tr>\n",
              "      <th>min</th>\n",
              "      <td>18.000000</td>\n",
              "      <td>15.960000</td>\n",
              "      <td>0.000000</td>\n",
              "      <td>1121.873900</td>\n",
              "    </tr>\n",
              "    <tr>\n",
              "      <th>25%</th>\n",
              "      <td>27.000000</td>\n",
              "      <td>26.296250</td>\n",
              "      <td>0.000000</td>\n",
              "      <td>4740.287150</td>\n",
              "    </tr>\n",
              "    <tr>\n",
              "      <th>50%</th>\n",
              "      <td>39.000000</td>\n",
              "      <td>30.400000</td>\n",
              "      <td>1.000000</td>\n",
              "      <td>9382.033000</td>\n",
              "    </tr>\n",
              "    <tr>\n",
              "      <th>75%</th>\n",
              "      <td>51.000000</td>\n",
              "      <td>34.693750</td>\n",
              "      <td>2.000000</td>\n",
              "      <td>16639.912515</td>\n",
              "    </tr>\n",
              "    <tr>\n",
              "      <th>max</th>\n",
              "      <td>64.000000</td>\n",
              "      <td>53.130000</td>\n",
              "      <td>5.000000</td>\n",
              "      <td>63770.428010</td>\n",
              "    </tr>\n",
              "  </tbody>\n",
              "</table>\n",
              "</div>"
            ],
            "text/plain": [
              "               age          bmi     children       charges\n",
              "count  1338.000000  1338.000000  1338.000000   1338.000000\n",
              "mean     39.207025    30.663397     1.094918  13270.422265\n",
              "std      14.049960     6.098187     1.205493  12110.011237\n",
              "min      18.000000    15.960000     0.000000   1121.873900\n",
              "25%      27.000000    26.296250     0.000000   4740.287150\n",
              "50%      39.000000    30.400000     1.000000   9382.033000\n",
              "75%      51.000000    34.693750     2.000000  16639.912515\n",
              "max      64.000000    53.130000     5.000000  63770.428010"
            ]
          },
          "metadata": {
            "tags": []
          },
          "execution_count": 4
        }
      ]
    },
    {
      "cell_type": "markdown",
      "metadata": {
        "id": "VZt7xRVNSTwJ",
        "colab_type": "text"
      },
      "source": [
        "The \"Medical Cost Personal Dataset\" is a dataframe with 7 features/columns and 1338 entries/rows. It takes up ~73.2 KB in memory.\n",
        "\n",
        "The features are: **age, sex, bmi, children, smoker, region,** and **charges**. Using the other 6 features, we will use regression to predict **charges**. According to `df.info()`, there are three categorical variables: **sex, smoker,** and **region**. Through `df.describe()`, we can understand the *mean, standard deviation, minimum and maximum values,* and *quantiles* of the quantitative variables. "
      ]
    },
    {
      "cell_type": "code",
      "metadata": {
        "id": "YF8vpMlVU8cA",
        "colab_type": "code",
        "outputId": "f6cc1783-884c-422f-fefc-35ec5cae2e0d",
        "colab": {
          "base_uri": "https://localhost:8080/",
          "height": 269
        }
      },
      "source": [
        "plt.hist(df[\"charges\"])\n",
        "plt.show()"
      ],
      "execution_count": 0,
      "outputs": [
        {
          "output_type": "display_data",
          "data": {
            "image/png": "[encoded data removed]",
            "text/plain": [
              "<Figure size 432x288 with 1 Axes>"
            ]
          },
          "metadata": {
            "tags": []
          }
        }
      ]
    },
    {
      "cell_type": "markdown",
      "metadata": {
        "id": "vPVYWoctWqu4",
        "colab_type": "text"
      },
      "source": [
        "The output data, **charges**, is skewed-right. In order to predict accurately, we may need to use a log transformation. \n"
      ]
    },
    {
      "cell_type": "markdown",
      "metadata": {
        "id": "Xfw6nVzoR104",
        "colab_type": "text"
      },
      "source": [
        "---\n",
        "##  Task 2: DATA DISCOVERY, CLEANING, AND SCALING (25 pts)\n",
        "\n",
        "**Data Discover:** Plot out all correlations among the features. You may notice some features are more correlated with your predicted value than other. This information will help you confirm that weights of your regression model later on.\n",
        "\n",
        "**Data Cleaning:** If your dataset has some missing values, make sure you are able to fill those values with the Imputer class. If your dataset has categorical features, make sure you conver those features into numerical using OneHotEncoder class. \n",
        "\n",
        "**Feature Scaling** More importantly, your task is to write some codes to normalize the value of each features as follow:\n",
        "\n",
        "* Subtract the mean value of each feature from the dataset\n",
        "* Scale (divide) the feature values by their respective standard deviation\n",
        "\n",
        "**Implementation Note:** You will need to integrate the above operations into a Pipeline to process and transform the training data, then use the same pipeline to transform any validation and testing data."
      ]
    },
    {
      "cell_type": "code",
      "metadata": {
        "id": "uhnt6o--inHV",
        "colab_type": "code",
        "colab": {
          "base_uri": "https://localhost:8080/",
          "height": 287
        },
        "outputId": "465e7ccf-1a0f-4744-a360-0aa65b9d5cd3"
      },
      "source": [
        "corr = df.corr()\n",
        "sns.heatmap(corr, mask=np.zeros_like(corr, dtype=np.bool), cmap=sns.diverging_palette(240,10,as_cmap=True),\n",
        "            square=True)"
      ],
      "execution_count": 152,
      "outputs": [
        {
          "output_type": "execute_result",
          "data": {
            "text/plain": [
              "<matplotlib.axes._subplots.AxesSubplot at 0x7fb044319d30>"
            ]
          },
          "metadata": {
            "tags": []
          },
          "execution_count": 152
        },
        {
          "output_type": "display_data",
          "data": {
            "image/png": "[encoded data removed]",
            "text/plain": [
              "<Figure size 432x288 with 2 Axes>"
            ]
          },
          "metadata": {
            "tags": []
          }
        }
      ]
    },
    {
      "cell_type": "code",
      "metadata": {
        "id": "mF2ElYCWjBG6",
        "colab_type": "code",
        "colab": {
          "base_uri": "https://localhost:8080/",
          "height": 747
        },
        "outputId": "968ae667-698b-4c47-fa79-5c032fb02467"
      },
      "source": [
        "sns.pairplot(df)"
      ],
      "execution_count": 153,
      "outputs": [
        {
          "output_type": "execute_result",
          "data": {
            "text/plain": [
              "<seaborn.axisgrid.PairGrid at 0x7fb044192390>"
            ]
          },
          "metadata": {
            "tags": []
          },
          "execution_count": 153
        },
        {
          "output_type": "display_data",
          "data": {
            "image/png": "[encoded data removed]",
            "text/plain": [
              "<Figure size 720x720 with 20 Axes>"
            ]
          },
          "metadata": {
            "tags": []
          }
        }
      ]
    },
    {
      "cell_type": "code",
      "metadata": {
        "id": "KI2IIJdHR104",
        "colab_type": "code",
        "outputId": "cff99ba8-9d3c-457c-b580-13791f6c5ebd",
        "colab": {
          "base_uri": "https://localhost:8080/",
          "height": 35
        }
      },
      "source": [
        "# You might want to use the following package\n",
        "from sklearn.model_selection import train_test_split\n",
        "from pandas.plotting import scatter_matrix # optional\n",
        "from sklearn.preprocessing import Imputer\n",
        "from sklearn.preprocessing import LabelEncoder\n",
        "from sklearn.preprocessing import OneHotEncoder\n",
        "from sklearn.pipeline import Pipeline\n",
        "from sklearn.preprocessing import StandardScaler\n",
        "from sklearn.compose import ColumnTransformer\n",
        "from sklearn.metrics import mean_squared_error\n",
        "\n",
        "# Your code goes here for this section.\n",
        "train, test = train_test_split(df, test_size=0.2, random_state=42)\n",
        "len(train)"
      ],
      "execution_count": 0,
      "outputs": [
        {
          "output_type": "execute_result",
          "data": {
            "text/plain": [
              "1070"
            ]
          },
          "metadata": {
            "tags": []
          },
          "execution_count": 83
        }
      ]
    },
    {
      "cell_type": "code",
      "metadata": {
        "id": "gkl3AvbJBMcA",
        "colab_type": "code",
        "outputId": "20623c2f-9170-46c2-e753-6bc646df3736",
        "colab": {
          "base_uri": "https://localhost:8080/",
          "height": 35
        }
      },
      "source": [
        "len(test)"
      ],
      "execution_count": 0,
      "outputs": [
        {
          "output_type": "execute_result",
          "data": {
            "text/plain": [
              "268"
            ]
          },
          "metadata": {
            "tags": []
          },
          "execution_count": 53
        }
      ]
    },
    {
      "cell_type": "code",
      "metadata": {
        "id": "dbvzHfIC5pJv",
        "colab_type": "code",
        "colab": {}
      },
      "source": [
        "# use Pipeline to transform training set\n",
        "num_trans = Pipeline(steps=[\n",
        "                           (\"scaler\", StandardScaler()) \n",
        "\n",
        "])\n",
        "cat_trans = Pipeline(steps=[\n",
        "                            (\"onehot\", OneHotEncoder(handle_unknown = \"ignore\"))\n",
        "])\n",
        "\n",
        "numeric_features = train.select_dtypes(include=[float, int]).drop(\"charges\", axis=1).columns # do not transform \"charges\" \n",
        "categorical_features = train.select_dtypes(include=[object]).columns\n",
        "\n",
        "prep = ColumnTransformer(transformers=[\n",
        "                                       (\"num\", num_trans, numeric_features), \n",
        "                                       (\"cat\", cat_trans, categorical_features)\n",
        "])"
      ],
      "execution_count": 0,
      "outputs": []
    },
    {
      "cell_type": "code",
      "metadata": {
        "id": "xYk_a2ShwvE5",
        "colab_type": "code",
        "colab": {}
      },
      "source": [
        "X_train = train.drop(\"charges\", axis=1)\n",
        "X_test = test.drop(\"charges\", axis=1)\n",
        "y_train = train[\"charges\"].copy()\n",
        "y_test = test[\"charges\"].copy()"
      ],
      "execution_count": 0,
      "outputs": []
    },
    {
      "cell_type": "markdown",
      "metadata": {
        "id": "JRW5HPBzR106",
        "colab_type": "text"
      },
      "source": [
        "- - -\n",
        "## Task 3. IMPLEMENT GRADIENT DESCENT (30 pts)\n",
        "The gradient descent formulation remain the same as one in the lecture. Keep in mind that you will need to add a column $\\textbf{x}_0$ with all 1s as part of the training data. You should write code to implement the **MyLinearRegression** class and its predefined methods. \n",
        "\n",
        "**Gradient Descent:** Notes that you may NOT call the library linear regression which defeats the purpose of this assignment. Make sure your code is well-vectorized."
      ]
    },
    {
      "cell_type": "code",
      "metadata": {
        "id": "XOhAxyK1R107",
        "colab_type": "code",
        "outputId": "f7fd6b68-6af6-43b1-dcb4-c954f02ed7cc",
        "colab": {
          "base_uri": "https://localhost:8080/",
          "height": 520
        }
      },
      "source": [
        "# NOTE: You may not use the library Linear Regression, but implement your own!\n",
        "# REMEMBER to place self.attribute = 0 with value from your implementation\n",
        "\n",
        "class MyLinearRegression:\n",
        "  \"\"\"\n",
        "  Define what a linear regressor can do\n",
        "  \"\"\"\n",
        "  def __init__ (self, learning_rate=0.005):\n",
        "    \"\"\"\n",
        "    Initialize the regressor\n",
        "    \"\"\"\n",
        "    self.theta = 0; # parameter vector;\n",
        "    self.alpha = learning_rate; # learning rate\n",
        "    self.cost  = 0; # cost function\n",
        "\n",
        "  def gradientDescent(self, X_train, y_train, theta, alpha, iters):\n",
        "    \"\"\"\n",
        "    Implementatation of the gradient descent\n",
        "    INPUT:\n",
        "    alpha: the learning rate\n",
        "    iters: number of iterations\n",
        "\n",
        "    OUTPUT: \n",
        "    theta: updated value for theta\n",
        "    cost: value of the cost function\n",
        "    \"\"\"\n",
        "    # implementation code here\n",
        "    X = np.concatenate([np.ones((len(X_train), 1)), X_train], axis=1)\n",
        "    transpose = X.transpose()\n",
        "    costs = []\n",
        "    weights = np.zeros(X.shape[1], dtype=int)\n",
        "    \n",
        "    for i in range(iters): \n",
        "      h = np.dot(X, weights)  # find the hypothesis/predictions\n",
        "      c = h - y_train \n",
        "      g = np.dot(transpose, c)\n",
        "      g = g / len(y_train)\n",
        "      weights = weights - alpha*g\n",
        "\n",
        "      current_cost = np.absolute(c).sum()\n",
        "      costs.append(current_cost)\n",
        "      \n",
        "    return weights, costs\n",
        "\n",
        "  def fitUsingGradientDescent(self, X_train, y_train):\n",
        "    \"\"\"\n",
        "    Train the regressor using gradient descent\n",
        "    \"\"\"\n",
        "    # implementation code here\n",
        "\n",
        "    t, c = self.gradientDescent(X_train, y_train, self.theta, self.alpha, iters=1000)\n",
        "    self.theta = t\n",
        "    self.cost = c\n",
        "\n",
        "    return self\n",
        "  \n",
        "  def fitUsingNormalEquation(self, X_train, y_train):\n",
        "    \"\"\"\n",
        "    Training using the Normal (close form) equation\n",
        "    \"\"\"\n",
        "    # implementation code here for Task 4.\n",
        "\n",
        "    X = np.concatenate([np.ones((len(X_train), 1)), X_train], axis=1)\n",
        "    transpose_x = X.transpose()\n",
        "    optimal_theta = np.dot(np.linalg.inv(np.dot(transpose_x, X)), np.dot(transpose_x, y_train))\n",
        "    self.theta = optimal_theta\n",
        "    \n",
        "    return self\n",
        "  \n",
        "  def fit(self, X_train, y_train, model_type=\"gd\"):\n",
        "    # to make Pipeline work smoooothly\n",
        "    if model_type == \"gd\": \n",
        "      return self.fitUsingGradientDescent(X_train, y_train)\n",
        "    else:\n",
        "      return self.fitUsingNormalEquation(X_train, y_train)\n",
        "\n",
        "  def predict(self, X_test):\n",
        "    \"\"\"\n",
        "    Predicting the label\n",
        "    \"\"\"\n",
        "    # implementation code here\n",
        "\n",
        "    X = np.concatenate([np.ones((len(X_test), 1)), X_test], axis=1)\n",
        "    y_predict = np.dot(X, self.theta)\n",
        "    \n",
        "    return y_predict\n",
        "\n",
        "  def __str__(self):\n",
        "    \"\"\"\n",
        "    Print out the parameter out when call print()\n",
        "    \"\"\"\n",
        "    return(\"Parameter vector is %f\" % self.theta)\n",
        "    \n",
        "# Your code goes here to call the instance of class MyLinearRegression\n",
        "myGradientDescentModel = MyLinearRegression()\n",
        "mlr = Pipeline(steps=[\n",
        "                      (\"prep\", prep), \n",
        "                      (\"model\", myGradientDescentModel) \n",
        "                      ])\n",
        "#  using model__ allows to access specific parameters in \"model\" step\n",
        "mlr.fit(X_train, y_train, model__model_type=\"gd\") "
      ],
      "execution_count": 129,
      "outputs": [
        {
          "output_type": "execute_result",
          "data": {
            "text/plain": [
              "Pipeline(memory=None,\n",
              "         steps=[('prep',\n",
              "                 ColumnTransformer(n_jobs=None, remainder='drop',\n",
              "                                   sparse_threshold=0.3,\n",
              "                                   transformer_weights=None,\n",
              "                                   transformers=[('num',\n",
              "                                                  Pipeline(memory=None,\n",
              "                                                           steps=[('scaler',\n",
              "                                                                   StandardScaler(copy=True,\n",
              "                                                                                  with_mean=True,\n",
              "                                                                                  with_std=True))],\n",
              "                                                           verbose=False),\n",
              "                                                  Index(['age', 'bmi', 'children'], dtype='object')),\n",
              "                                                 ('cat',\n",
              "                                                  Pipeline(memory=None,\n",
              "                                                           steps=[('onehot',\n",
              "                                                                   OneHotEncoder(categorical_features=None,\n",
              "                                                                                 categories=None,\n",
              "                                                                                 drop=None,\n",
              "                                                                                 dtype=<class 'numpy.float64'>,\n",
              "                                                                                 handle_unknown='ignore',\n",
              "                                                                                 n_values=None,\n",
              "                                                                                 sparse=True))],\n",
              "                                                           verbose=False),\n",
              "                                                  Index(['sex', 'smoker', 'region'], dtype='object'))],\n",
              "                                   verbose=False)),\n",
              "                ('model',\n",
              "                 <__main__.MyLinearRegression object at 0x7fb047fc2da0>)],\n",
              "         verbose=False)"
            ]
          },
          "metadata": {
            "tags": []
          },
          "execution_count": 129
        }
      ]
    },
    {
      "cell_type": "code",
      "metadata": {
        "id": "N1FRAGa8X4Uh",
        "colab_type": "code",
        "colab": {}
      },
      "source": [
        "from sklearn.model_selection import cross_val_score\n"
      ],
      "execution_count": 0,
      "outputs": []
    },
    {
      "cell_type": "code",
      "metadata": {
        "id": "eVmn--HbM3cu",
        "colab_type": "code",
        "colab": {}
      },
      "source": [
        "# predict\n",
        "y_predict = mlr.predict(X_test)\n",
        "\"\"\"\n",
        "scores = cross_val_score(mlr, X_test, y_test,\n",
        "                             scoring=\"neg_mean_squared_error\", cv=10)\n",
        "rmse_scores = np.sqrt(-scores)\n",
        "\"\"\""
      ],
      "execution_count": 0,
      "outputs": []
    },
    {
      "cell_type": "code",
      "metadata": {
        "id": "G2S6hR6bYG63",
        "colab_type": "code",
        "colab": {
          "base_uri": "https://localhost:8080/",
          "height": 35
        },
        "outputId": "6e6ac725-b210-491c-d904-9ea3c026a2b6"
      },
      "source": [
        "lin_mse = mean_squared_error(y_test, y_predict)\n",
        "lin_rmse = np.sqrt(lin_mse)\n",
        "lin_rmse"
      ],
      "execution_count": 140,
      "outputs": [
        {
          "output_type": "execute_result",
          "data": {
            "text/plain": [
              "5802.816675931879"
            ]
          },
          "metadata": {
            "tags": []
          },
          "execution_count": 140
        }
      ]
    },
    {
      "cell_type": "markdown",
      "metadata": {
        "id": "9mbKbih2R109",
        "colab_type": "text"
      },
      "source": [
        "* **Learning Rate:** You will try out different learning rates for the dataset and find a learning rate that converges quickly. If you pick a learning rate, your plot of Cost Function $J(\\theta)$ against number of iteration will quickly decay to a small value. This also indicates that your implementation is correct. If your learning rate is too large, the cost function $J(\\theta)$ can diverge and blow up. From the below plot, you must be able to report the best learning rate the you found to earn credit for this section."
      ]
    },
    {
      "cell_type": "code",
      "metadata": {
        "id": "sBdljd94R109",
        "colab_type": "code",
        "outputId": "64c3140e-2c04-4ceb-8c15-c9e468101c4f",
        "colab": {
          "base_uri": "https://localhost:8080/",
          "height": 313
        }
      },
      "source": [
        "# Use the following code to plot out your learning rate\n",
        "# iters and cost must be supplied to plot out the cost function\n",
        "# You may plot multiple curves corresponding to different learning rates to justify the best one.\n",
        "#\n",
        "plt.plot(myGradientDescentModel.cost)\n",
        "plt.xlabel('Iterations')  \n",
        "plt.ylabel('Cost')  \n",
        "plt.title('Error vs. Training Iterations')  "
      ],
      "execution_count": 125,
      "outputs": [
        {
          "output_type": "execute_result",
          "data": {
            "text/plain": [
              "Text(0.5, 1.0, 'Error vs. Training Iterations')"
            ]
          },
          "metadata": {
            "tags": []
          },
          "execution_count": 125
        },
        {
          "output_type": "display_data",
          "data": {
            "image/png": "[encoded data removed]",
            "text/plain": [
              "<Figure size 432x288 with 1 Axes>"
            ]
          },
          "metadata": {
            "tags": []
          }
        }
      ]
    },
    {
      "cell_type": "markdown",
      "metadata": {
        "id": "_OSBr-iNR10_",
        "colab_type": "text"
      },
      "source": [
        "- - -\n",
        "## Task 4. IMPLEMENT THE NORMAL EQUATION (10 pts)"
      ]
    },
    {
      "cell_type": "markdown",
      "metadata": {
        "id": "8Pnn0NEhR10_",
        "colab_type": "text"
      },
      "source": [
        "In my lecture, you learn that the closed form solution of linear regression using the normal equation formulation. Using the formula does not require any feature scaling, and should be straight forward to implement: \n",
        "\n",
        "$\n",
        "    \\mathbf{\\theta} = ({\\mathbf{X}^{T}\\mathbf{X}})^{-1}\\mathbf{X}^{T}\\mathbf{y}.\n",
        "$\n",
        "\n",
        "Note that you still need to add a column of 1's to the $\\mathbf{\n",
        "X}$ matrix to have an intercept term."
      ]
    },
    {
      "cell_type": "code",
      "metadata": {
        "id": "X4t5jNtbR11B",
        "colab_type": "code",
        "colab": {
          "base_uri": "https://localhost:8080/",
          "height": 520
        },
        "outputId": "f411a981-040e-45c7-9b1c-a89d32dffb7a"
      },
      "source": [
        "# Implement the normalEquation method of the MyLinearRegression Class before execute the code below:\n",
        "myNormalEquationModel = MyLinearRegression()\n",
        "\n",
        "mnem = Pipeline(steps=[\n",
        "                      (\"prep\", prep), \n",
        "                      (\"model\", myNormalEquationModel) \n",
        "                      ])\n",
        "#  using model__ allows to access specific parameters in \"model\" step\n",
        "mnem.fit(X_train, y_train, model__model_type=\"else\") "
      ],
      "execution_count": 130,
      "outputs": [
        {
          "output_type": "execute_result",
          "data": {
            "text/plain": [
              "Pipeline(memory=None,\n",
              "         steps=[('prep',\n",
              "                 ColumnTransformer(n_jobs=None, remainder='drop',\n",
              "                                   sparse_threshold=0.3,\n",
              "                                   transformer_weights=None,\n",
              "                                   transformers=[('num',\n",
              "                                                  Pipeline(memory=None,\n",
              "                                                           steps=[('scaler',\n",
              "                                                                   StandardScaler(copy=True,\n",
              "                                                                                  with_mean=True,\n",
              "                                                                                  with_std=True))],\n",
              "                                                           verbose=False),\n",
              "                                                  Index(['age', 'bmi', 'children'], dtype='object')),\n",
              "                                                 ('cat',\n",
              "                                                  Pipeline(memory=None,\n",
              "                                                           steps=[('onehot',\n",
              "                                                                   OneHotEncoder(categorical_features=None,\n",
              "                                                                                 categories=None,\n",
              "                                                                                 drop=None,\n",
              "                                                                                 dtype=<class 'numpy.float64'>,\n",
              "                                                                                 handle_unknown='ignore',\n",
              "                                                                                 n_values=None,\n",
              "                                                                                 sparse=True))],\n",
              "                                                           verbose=False),\n",
              "                                                  Index(['sex', 'smoker', 'region'], dtype='object'))],\n",
              "                                   verbose=False)),\n",
              "                ('model',\n",
              "                 <__main__.MyLinearRegression object at 0x7fb047faf048>)],\n",
              "         verbose=False)"
            ]
          },
          "metadata": {
            "tags": []
          },
          "execution_count": 130
        }
      ]
    },
    {
      "cell_type": "code",
      "metadata": {
        "id": "38nb_dFqZamL",
        "colab_type": "code",
        "colab": {
          "base_uri": "https://localhost:8080/",
          "height": 35
        },
        "outputId": "e20ea39a-569d-465b-cbe7-e75f533b6478"
      },
      "source": [
        "y_predict_normal = mnem.predict(X_test)\n",
        "\n",
        "\"\"\"\n",
        "scores_normal = cross_val_score(mnem, X_test, y_test,\n",
        "                             scoring=\"neg_mean_squared_error\", cv=10)\n",
        "rmse_scores_normal = np.sqrt(-scores_normal)\n",
        "rmse_scores_normal\n",
        "\"\"\"\n",
        "mnem_mse = mean_squared_error(y_test, y_predict_normal)\n",
        "mnem_rmse = np.sqrt(mse)\n",
        "mnem_rmse"
      ],
      "execution_count": 137,
      "outputs": [
        {
          "output_type": "execute_result",
          "data": {
            "text/plain": [
              "5802.816675931879"
            ]
          },
          "metadata": {
            "tags": []
          },
          "execution_count": 137
        }
      ]
    },
    {
      "cell_type": "markdown",
      "metadata": {
        "id": "m5el9T4eR11D",
        "colab_type": "text"
      },
      "source": [
        "- - -\n",
        "## Task 5. COMPARE DIFFERENT IMPLEMENTATIONS (20 pts)"
      ]
    },
    {
      "cell_type": "markdown",
      "metadata": {
        "id": "ScvMKU-zR11D",
        "colab_type": "text"
      },
      "source": [
        "You should be able to evaluate and compare your gradient descent as well as normal equation implementation of linear regression. In theory, they should be the same, or at least similar. For good measures, you may also use the built-in library **Scholastic Gradient Descent (SGD)** as a third model for comparison. For each model, you must compute the RMSE on the **test set** as performance measure. The good news is that you can call library functions to compute these as shown below instead of writing your own code:\n",
        "\n",
        "* Which one yields the best performance measure for your dataset?\n",
        "* What is your assessment of the error? Good? Okay? Terrible?"
      ]
    },
    {
      "cell_type": "code",
      "metadata": {
        "id": "wtvlmtyCR11E",
        "colab_type": "code",
        "colab": {
          "base_uri": "https://localhost:8080/",
          "height": 35
        },
        "outputId": "8ef02627-e82f-4bf5-d3a8-5b0217512aee"
      },
      "source": [
        "from sklearn.metrics import mean_squared_error\n",
        "from sklearn.linear_model import SGDRegressor\n",
        "\n",
        "# Use the built-in SGD Regressor model\n",
        "\n",
        "mySGDModel = SGDRegressor()\n",
        "sgd = Pipeline(steps=[\n",
        "                      (\"prep\", prep), \n",
        "                      (\"model\", mySGDModel) \n",
        "                      ])\n",
        "sgd.fit(X_train, y_train)\n",
        "y_predict_sgd = sgd.predict(X_test)\n",
        "mse_sgd = mean_squared_error(y_test, y_predict_sgd)\n",
        "mySGDModel_rmse = np.sqrt(mse_sgd)\n",
        "\n",
        "print(mySGDModel_rmse)"
      ],
      "execution_count": 139,
      "outputs": [
        {
          "output_type": "stream",
          "text": [
            "5791.118754853963\n"
          ],
          "name": "stdout"
        }
      ]
    },
    {
      "cell_type": "code",
      "metadata": {
        "id": "9MOzHg30ctjw",
        "colab_type": "code",
        "colab": {}
      },
      "source": [
        "from sklearn.model_selection import GridSearchCV\n",
        "from sklearn.ensemble import RandomForestRegressor\n",
        "from sklearn.tree import DecisionTreeRegressor\n",
        "from sklearn.linear_model import LinearRegression"
      ],
      "execution_count": 0,
      "outputs": []
    },
    {
      "cell_type": "code",
      "metadata": {
        "id": "tZFssrLQdaPT",
        "colab_type": "code",
        "colab": {
          "base_uri": "https://localhost:8080/",
          "height": 89
        },
        "outputId": "39a3b128-f8d8-498b-ea85-b3a401265803"
      },
      "source": [
        "# use built in Random Forest Regressor\n",
        "\n",
        "rfr = Pipeline(steps=[\n",
        "                      (\"prep\", prep), \n",
        "                      (\"model\", RandomForestRegressor()) \n",
        "                      ])\n",
        "rfr.fit(X_train, y_train)\n",
        "y_predict_rfr = rfr.predict(X_test)\n",
        "mse_rfr = mean_squared_error(y_test, y_predict_rfr)\n",
        "rmse_rfr = np.sqrt(mse_rfr)\n",
        "rmse_rfr"
      ],
      "execution_count": 142,
      "outputs": [
        {
          "output_type": "stream",
          "text": [
            "/usr/local/lib/python3.6/dist-packages/sklearn/ensemble/forest.py:245: FutureWarning: The default value of n_estimators will change from 10 in version 0.20 to 100 in 0.22.\n",
            "  \"10 in version 0.20 to 100 in 0.22.\", FutureWarning)\n"
          ],
          "name": "stderr"
        },
        {
          "output_type": "execute_result",
          "data": {
            "text/plain": [
              "4935.371345585616"
            ]
          },
          "metadata": {
            "tags": []
          },
          "execution_count": 142
        }
      ]
    },
    {
      "cell_type": "code",
      "metadata": {
        "id": "7vxJfwYDdaWn",
        "colab_type": "code",
        "colab": {
          "base_uri": "https://localhost:8080/",
          "height": 35
        },
        "outputId": "55fd71e8-ac64-4fe0-92ca-6731ab1c2489"
      },
      "source": [
        "# use built in Decision Tree Regressor\n",
        "\n",
        "dtr = Pipeline(steps=[\n",
        "                      (\"prep\", prep), \n",
        "                      (\"model\", DecisionTreeRegressor()) \n",
        "                      ])\n",
        "dtr.fit(X_train, y_train)\n",
        "y_predict_dtr = dtr.predict(X_test)\n",
        "mse_dtr = mean_squared_error(y_test, y_predict_dtr)\n",
        "rmse_dtr = np.sqrt(mse_dtr)\n",
        "rmse_dtr"
      ],
      "execution_count": 144,
      "outputs": [
        {
          "output_type": "execute_result",
          "data": {
            "text/plain": [
              "6680.7460978857025"
            ]
          },
          "metadata": {
            "tags": []
          },
          "execution_count": 144
        }
      ]
    },
    {
      "cell_type": "code",
      "metadata": {
        "id": "Ud4BIh_Sdaen",
        "colab_type": "code",
        "colab": {
          "base_uri": "https://localhost:8080/",
          "height": 35
        },
        "outputId": "335fa9bd-e859-4338-a4b4-8d6bc8f82af6"
      },
      "source": [
        "sci_linear = Pipeline(steps=[\n",
        "                      (\"prep\", prep), \n",
        "                      (\"model\", LinearRegression()) \n",
        "                      ])\n",
        "sci_linear.fit(X_train, y_train)\n",
        "y_predict_sci_linear = sci_linear.predict(X_test)\n",
        "mse_sci_linear = mean_squared_error(y_test, y_predict_sci_linear)\n",
        "rmse_sci_linear = np.sqrt(mse_sci_linear)\n",
        "rmse_sci_linear"
      ],
      "execution_count": 145,
      "outputs": [
        {
          "output_type": "execute_result",
          "data": {
            "text/plain": [
              "5796.2846592762735"
            ]
          },
          "metadata": {
            "tags": []
          },
          "execution_count": 145
        }
      ]
    },
    {
      "cell_type": "code",
      "metadata": {
        "id": "TnhTew7yfOc-",
        "colab_type": "code",
        "colab": {
          "base_uri": "https://localhost:8080/",
          "height": 114
        },
        "outputId": "2c950f94-7d73-4f49-8149-8349e844db2d"
      },
      "source": [
        "figure1 = pd.DataFrame({\"MyLinearRegression\":[lin_rmse], \n",
        "              \"Scikit-learn Linear Regression\":[rmse_sci_linear] , \n",
        "              \"Normal Equation\":[mnem_rmse], \n",
        "              \"Stochastic Gradient Descent\": mySGDModel_rmse, \n",
        "              \"Decision Tree Model\": rmse_dtr, \n",
        "              \"Random Forest Regressor\": rmse_rfr}, index=[\"rmse score\"])\n",
        "figure1"
      ],
      "execution_count": 148,
      "outputs": [
        {
          "output_type": "execute_result",
          "data": {
            "text/html": [
              "<div>\n",
              "<style scoped>\n",
              "    .dataframe tbody tr th:only-of-type {\n",
              "        vertical-align: middle;\n",
              "    }\n",
              "\n",
              "    .dataframe tbody tr th {\n",
              "        vertical-align: top;\n",
              "    }\n",
              "\n",
              "    .dataframe thead th {\n",
              "        text-align: right;\n",
              "    }\n",
              "</style>\n",
              "<table border=\"1\" class=\"dataframe\">\n",
              "  <thead>\n",
              "    <tr style=\"text-align: right;\">\n",
              "      <th></th>\n",
              "      <th>MyLinearRegression</th>\n",
              "      <th>Scikit-learn Linear Regression</th>\n",
              "      <th>Normal Equation</th>\n",
              "      <th>Stochastic Gradient Descent</th>\n",
              "      <th>Decision Tree Model</th>\n",
              "      <th>Random Forest Regressor</th>\n",
              "    </tr>\n",
              "  </thead>\n",
              "  <tbody>\n",
              "    <tr>\n",
              "      <th>rmse score</th>\n",
              "      <td>5802.816676</td>\n",
              "      <td>5796.284659</td>\n",
              "      <td>5802.816676</td>\n",
              "      <td>5791.118755</td>\n",
              "      <td>6680.746098</td>\n",
              "      <td>4935.371346</td>\n",
              "    </tr>\n",
              "  </tbody>\n",
              "</table>\n",
              "</div>"
            ],
            "text/plain": [
              "            MyLinearRegression  ...  Random Forest Regressor\n",
              "rmse score         5802.816676  ...              4935.371346\n",
              "\n",
              "[1 rows x 6 columns]"
            ]
          },
          "metadata": {
            "tags": []
          },
          "execution_count": 148
        }
      ]
    },
    {
      "cell_type": "markdown",
      "metadata": {
        "id": "vmaBPxD_R11G",
        "colab_type": "text"
      },
      "source": [
        "- - -\n",
        "## Task 6. PRESENT YOUR SOLUTION (10 pts)"
      ]
    },
    {
      "cell_type": "markdown",
      "metadata": {
        "id": "zI7TNvZsR11H",
        "colab_type": "text"
      },
      "source": [
        "Now that you need to write a short memo of one paragraph to be read by a non-technical audience (ie. your manager/boss). Focus on answering the following: \n",
        "\n",
        "* How can you pitch your solution to this project? \n",
        "* What did you learn so far about the problem?\n",
        "* Is there any insight moving forward to improve the solution."
      ]
    },
    {
      "cell_type": "markdown",
      "metadata": {
        "id": "18a0icxQhyep",
        "colab_type": "text"
      },
      "source": [
        "**MY ANSWER:**"
      ]
    },
    {
      "cell_type": "markdown",
      "metadata": {
        "id": "aLssedomcaFR",
        "colab_type": "text"
      },
      "source": [
        "The model with the smallest root-mean-squared-error was the **Random Forest Regressor** (see `figure1`.) **Stochastic Gradient Descent** also performed better than the Linear Regression models (both mine and scikit-learn's.) \n",
        "\n",
        "In order to perform better, we need to ensure that the quantitative and qualitative variables are treated differently (see `prep` transformer.) Take the `bmi` feature for instance; it should not be viewed in the same way as the `smoker` feature is. \n",
        "\n",
        "The problem assessed different features in order to predict `charges` in hospitals. In the pairplot, we can see different features have a higher correlation than other features. For example, compare `age` and `bmi`. \n",
        "\n",
        "However, even though the Random Forest Regressor had teh smallest error, it still had a large rmse value of ~4900. This still can be considered significant, especially because the results of the data analysis is probably more relevant to those with lower incomes. \n",
        "\n",
        "In order to understand which features impact the `charges` value better, we should use a GridSearchCV to optimize the parameters within the Linear Regression model itself. This could include the learning rate (alpha.) And as always, we could improve the model with a larger dataset. "
      ]
    },
    {
      "cell_type": "markdown",
      "metadata": {
        "id": "I1vTd45lR11J",
        "colab_type": "text"
      },
      "source": [
        "- - - \n",
        "### NEED HELP?"
      ]
    },
    {
      "cell_type": "markdown",
      "metadata": {
        "id": "ionUS2eLR11K",
        "colab_type": "text"
      },
      "source": [
        "In case you get stuck in any step in the process, you may find some useful information from:\n",
        "\n",
        " * Consult my [slides](https://docs.google.com/presentation/d/10D1he89peAWaFgjtZlHpUzvOOAie_vIFT95htKCKgc0/edit?usp=sharing) and/or the textbook\n",
        " * Talk to the TA, they are available and there to help you during [office hour](http://bit.ly/cs4774oh)\n",
        " * Come talk to me or email me <nn4pj@virginia.edu> with subject starting \"CS4774 Assignment 1:...\".\n",
        "\n",
        "Best of luck and have fun!"
      ]
    }
  ]
}